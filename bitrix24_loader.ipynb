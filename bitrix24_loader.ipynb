{
 "cells": [
  {
   "attachments": {},
   "cell_type": "markdown",
   "metadata": {},
   "source": [
    "# Импортируем необходимые библиотеки"
   ]
  },
  {
   "cell_type": "code",
   "execution_count": 2,
   "metadata": {},
   "outputs": [],
   "source": [
    "import json\n",
    "from datetime import datetime\n",
    "from datetime import timedelta\n",
    "import time\n",
    "import requests\n",
    "import re\n",
    "import pandas as pd\n",
    "import numpy as np\n",
    "import os\n",
    "import yaml\n",
    "import sql_handler\n",
    "import postgresql_handler\n",
    "import clickhouse_handler\n",
    "import docker_service\n"
   ]
  },
  {
   "attachments": {},
   "cell_type": "markdown",
   "metadata": {},
   "source": [
    "# Опередляем объём импорта и необходимые объекты импорта"
   ]
  },
  {
   "cell_type": "code",
   "execution_count": 3,
   "metadata": {},
   "outputs": [
    {
     "name": "stdout",
     "output_type": "stream",
     "text": [
      "Column bla_bla not found in table deals_b24 \n",
      "\n",
      "Please, check your config.yaml file and database. After that, restart the container.\n"
     ]
    }
   ],
   "source": [
    "has_errors = False\n",
    "table_settings_mapper = {\n",
    "    'deal': 'deal_fields',\n",
    "    'contact': 'contact_fields',\n",
    "    'company': 'company_fields',\n",
    "    'lead': 'lead_fields',\n",
    "}\n",
    "\n",
    "database_import_mapper = {\n",
    "    'MySQL': sql_handler,\n",
    "    'PostgreSQL': postgresql_handler,\n",
    "    'ClickHouse': clickhouse_handler\n",
    "}\n",
    "\n",
    "with open('config.yaml', 'r') as file:\n",
    "    config = yaml.safe_load(file)\n",
    "\n",
    "database_type = config.get('database_type')\n",
    "\n",
    "if database_type in database_import_mapper:\n",
    "    handler = database_import_mapper[database_type]\n",
    "else:\n",
    "    print('Unsupported database type')\n",
    "    # docker_service.close()\n",
    "\n",
    "\n",
    "columns = handler.get_columns_and_types_sql(\n",
    "    config['table_names']['deal'], **config['db'])\n",
    "set_of_columns = set([column['name'] for column in columns])\n",
    "for column in config['deal_fields']:\n",
    "    if config['deal_fields'][column] not in set_of_columns:\n",
    "        if has_errors == False:\n",
    "            has_errors = True\n",
    "            list_of_errors = []\n",
    "        list_of_errors.append(\n",
    "            f\"Column {column} not found in table {config['table_names']['deal']}\")\n",
    "if has_errors:\n",
    "    print(*list_of_errors, '\\n')\n",
    "    print('Please, check your config.yaml file and database. After that, restart the container.')\n",
    "    # docker_service.close()\n"
   ]
  },
  {
   "cell_type": "code",
   "execution_count": 20,
   "metadata": {},
   "outputs": [
    {
     "ename": "NameError",
     "evalue": "name 'handler' is not defined",
     "output_type": "error",
     "traceback": [
      "\u001b[0;31m---------------------------------------------------------------------------\u001b[0m",
      "\u001b[0;31mNameError\u001b[0m                                 Traceback (most recent call last)",
      "\u001b[1;32m/Users/master/Dropbox/Analytics x AWST/Статьи/Импорт данных из б24 в базу/bitrix24_loader.ipynb Cell 5\u001b[0m in \u001b[0;36m<cell line: 3>\u001b[0;34m()\u001b[0m\n\u001b[1;32m      <a href='vscode-notebook-cell:/Users/master/Dropbox/Analytics%20x%20AWST/%D0%A1%D1%82%D0%B0%D1%82%D1%8C%D0%B8/%D0%98%D0%BC%D0%BF%D0%BE%D1%80%D1%82%20%D0%B4%D0%B0%D0%BD%D0%BD%D1%8B%D1%85%20%D0%B8%D0%B7%20%D0%B124%20%D0%B2%20%D0%B1%D0%B0%D0%B7%D1%83/bitrix24_loader.ipynb#X15sZmlsZQ%3D%3D?line=0'>1</a>\u001b[0m \u001b[39mwith\u001b[39;00m \u001b[39mopen\u001b[39m(\u001b[39m'\u001b[39m\u001b[39mconfig.yaml\u001b[39m\u001b[39m'\u001b[39m, \u001b[39m'\u001b[39m\u001b[39mr\u001b[39m\u001b[39m'\u001b[39m) \u001b[39mas\u001b[39;00m file:\n\u001b[1;32m      <a href='vscode-notebook-cell:/Users/master/Dropbox/Analytics%20x%20AWST/%D0%A1%D1%82%D0%B0%D1%82%D1%8C%D0%B8/%D0%98%D0%BC%D0%BF%D0%BE%D1%80%D1%82%20%D0%B4%D0%B0%D0%BD%D0%BD%D1%8B%D1%85%20%D0%B8%D0%B7%20%D0%B124%20%D0%B2%20%D0%B1%D0%B0%D0%B7%D1%83/bitrix24_loader.ipynb#X15sZmlsZQ%3D%3D?line=1'>2</a>\u001b[0m     config \u001b[39m=\u001b[39m yaml\u001b[39m.\u001b[39msafe_load(file)\n\u001b[0;32m----> <a href='vscode-notebook-cell:/Users/master/Dropbox/Analytics%20x%20AWST/%D0%A1%D1%82%D0%B0%D1%82%D1%8C%D0%B8/%D0%98%D0%BC%D0%BF%D0%BE%D1%80%D1%82%20%D0%B4%D0%B0%D0%BD%D0%BD%D1%8B%D1%85%20%D0%B8%D0%B7%20%D0%B124%20%D0%B2%20%D0%B1%D0%B0%D0%B7%D1%83/bitrix24_loader.ipynb#X15sZmlsZQ%3D%3D?line=2'>3</a>\u001b[0m handler\u001b[39m.\u001b[39mtest_connection(\u001b[39m*\u001b[39m\u001b[39m*\u001b[39mconfig[\u001b[39m'\u001b[39m\u001b[39mdb\u001b[39m\u001b[39m'\u001b[39m])\n",
      "\u001b[0;31mNameError\u001b[0m: name 'handler' is not defined"
     ]
    }
   ],
   "source": [
    "\n",
    "with open('config.yaml', 'r') as file:\n",
    "    config = yaml.safe_load(file)\n",
    "handler.test_connection(**config['db'])"
   ]
  },
  {
   "cell_type": "code",
   "execution_count": 2,
   "metadata": {},
   "outputs": [
    {
     "name": "stdout",
     "output_type": "stream",
     "text": [
      "Requirement already satisfied: black in /Users/master/opt/anaconda3/lib/python3.8/site-packages (19.10b0)\n",
      "Requirement already satisfied: toml>=0.9.4 in /Users/master/opt/anaconda3/lib/python3.8/site-packages (from black) (0.10.2)\n",
      "Requirement already satisfied: click>=6.5 in /Users/master/opt/anaconda3/lib/python3.8/site-packages (from black) (8.0.4)\n",
      "Requirement already satisfied: typed-ast>=1.4.0 in /Users/master/opt/anaconda3/lib/python3.8/site-packages (from black) (1.4.3)\n",
      "Requirement already satisfied: attrs>=18.1.0 in /Users/master/opt/anaconda3/lib/python3.8/site-packages (from black) (21.4.0)\n",
      "Requirement already satisfied: pathspec<1,>=0.6 in /Users/master/opt/anaconda3/lib/python3.8/site-packages (from black) (0.7.0)\n",
      "Requirement already satisfied: regex in /Users/master/opt/anaconda3/lib/python3.8/site-packages (from black) (2022.3.15)\n",
      "Requirement already satisfied: appdirs in /Users/master/opt/anaconda3/lib/python3.8/site-packages (from black) (1.4.4)\n"
     ]
    }
   ],
   "source": [
    "import sys\n",
    "!{sys.executable} -m pip install black"
   ]
  },
  {
   "cell_type": "code",
   "execution_count": null,
   "metadata": {},
   "outputs": [],
   "source": [
    "    "
   ]
  }
 ],
 "metadata": {
  "kernelspec": {
   "display_name": "Python 3",
   "language": "python",
   "name": "python3"
  },
  "language_info": {
   "codemirror_mode": {
    "name": "ipython",
    "version": 3
   },
   "file_extension": ".py",
   "mimetype": "text/x-python",
   "name": "python",
   "nbconvert_exporter": "python",
   "pygments_lexer": "ipython3",
   "version": "3.8.8"
  },
  "orig_nbformat": 4
 },
 "nbformat": 4,
 "nbformat_minor": 2
}
