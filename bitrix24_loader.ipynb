{
 "cells": [
  {
   "attachments": {},
   "cell_type": "markdown",
   "metadata": {},
   "source": [
    "# Импортируем необходимые библиотеки"
   ]
  },
  {
   "cell_type": "code",
   "execution_count": 13,
   "metadata": {},
   "outputs": [],
   "source": [
    "import json\n",
    "from datetime import datetime\n",
    "from datetime import timedelta\n",
    "import time\n",
    "import requests\n",
    "import re\n",
    "import pandas as pd\n",
    "import numpy as np\n",
    "import os\n",
    "import yaml\n",
    "import docker"
   ]
  },
  {
   "attachments": {},
   "cell_type": "markdown",
   "metadata": {},
   "source": [
    "# Опередляем объём импорта и необходимые объекты импорта"
   ]
  },
  {
   "cell_type": "code",
   "execution_count": 9,
   "metadata": {},
   "outputs": [
    {
     "name": "stdout",
     "output_type": "stream",
     "text": [
      "Column bla_bla not found in table deals_b24 \n",
      "\n"
     ]
    }
   ],
   "source": [
    "import sql_handler as sql\n",
    "import yaml\n",
    "has_errors = False\n",
    "table_settings_mapper = {\n",
    "    'deal': 'deal_fields',\n",
    "    'contact': 'contact_fields',\n",
    "    'company': 'company_fields',\n",
    "    'lead': 'lead_fields',\n",
    "}\n",
    "with open('config.yaml', 'r') as file:\n",
    "    config = yaml.safe_load(file)\n",
    "if config['database_type'] == 'MySQL':\n",
    "    columns = sql.get_columns_and_types_sql(config['table_names']['deal'], **config['db'])\n",
    "    set_of_columns = set([column['name'] for column in columns])\n",
    "    for column in config['deal_fields']:\n",
    "        if config['deal_fields'][column] not in set_of_columns:\n",
    "            if has_errors == False:\n",
    "                has_errors = True\n",
    "                list_of_errors = []\n",
    "            list_of_errors.append(f\"Column {column} not found in table {config['table_names']['deal']}\")\n",
    "if has_errors:\n",
    "    print(*list_of_errors, '\\n')\n",
    "    print('Please, check your config.yaml file and database. After that, restart the container.')\n",
    "    client = docker.from_env()\n",
    "    container = client.containers.get('bitrix24_loader')\n",
    "    container.stop()\n"
   ]
  },
  {
   "cell_type": "code",
   "execution_count": 10,
   "metadata": {},
   "outputs": [
    {
     "name": "stdout",
     "output_type": "stream",
     "text": [
      "Successfully connected to the database.\n"
     ]
    }
   ],
   "source": [
    "import sql_handler as sql\n",
    "import yaml\n",
    "with open('config.yaml', 'r') as file:\n",
    "    config = yaml.safe_load(file)\n",
    "sql.test_connection(**config['db'])"
   ]
  },
  {
   "cell_type": "code",
   "execution_count": null,
   "metadata": {},
   "outputs": [],
   "source": []
  }
 ],
 "metadata": {
  "kernelspec": {
   "display_name": "Python 3",
   "language": "python",
   "name": "python3"
  },
  "language_info": {
   "codemirror_mode": {
    "name": "ipython",
    "version": 3
   },
   "file_extension": ".py",
   "mimetype": "text/x-python",
   "name": "python",
   "nbconvert_exporter": "python",
   "pygments_lexer": "ipython3",
   "version": "3.8.8"
  },
  "orig_nbformat": 4
 },
 "nbformat": 4,
 "nbformat_minor": 2
}
